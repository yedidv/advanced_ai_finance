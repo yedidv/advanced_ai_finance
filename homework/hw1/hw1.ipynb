{
 "cells": [
  {
   "cell_type": "code",
   "execution_count": 1,
   "id": "composite-merchant",
   "metadata": {
    "ExecuteTime": {
     "end_time": "2021-02-07T20:49:17.261003Z",
     "start_time": "2021-02-07T20:49:15.761Z"
    }
   },
   "outputs": [
    {
     "name": "stderr",
     "output_type": "stream",
     "text": [
      "Loading required package: xts\n",
      "Loading required package: zoo\n",
      "\n",
      "Attaching package: ‘zoo’\n",
      "\n",
      "The following objects are masked from ‘package:base’:\n",
      "\n",
      "    as.Date, as.Date.numeric\n",
      "\n",
      "Registered S3 method overwritten by 'xts':\n",
      "  method     from\n",
      "  as.zoo.xts zoo \n",
      "Loading required package: TTR\n",
      "Registered S3 method overwritten by 'quantmod':\n",
      "  method            from\n",
      "  as.zoo.data.frame zoo \n",
      "Registered S3 methods overwritten by 'ggplot2':\n",
      "  method         from \n",
      "  [.quosures     rlang\n",
      "  c.quosures     rlang\n",
      "  print.quosures rlang\n",
      "Registered S3 method overwritten by 'rvest':\n",
      "  method            from\n",
      "  read_xml.response xml2\n",
      "── Attaching packages ─────────────────────────────────────── tidyverse 1.2.1 ──\n",
      "✔ ggplot2 3.1.1       ✔ purrr   0.3.2  \n",
      "✔ tibble  2.1.1       ✔ dplyr   0.8.0.1\n",
      "✔ tidyr   0.8.3       ✔ stringr 1.4.0  \n",
      "✔ readr   1.3.1       ✔ forcats 0.4.0  \n",
      "── Conflicts ────────────────────────────────────────── tidyverse_conflicts() ──\n",
      "✖ dplyr::filter()  masks stats::filter()\n",
      "✖ dplyr::first()   masks xts::first()\n",
      "✖ purrr::flatten() masks jsonlite::flatten()\n",
      "✖ dplyr::lag()     masks stats::lag()\n",
      "✖ dplyr::last()    masks xts::last()\n",
      "\n",
      "Attaching package: ‘reshape2’\n",
      "\n",
      "The following object is masked from ‘package:tidyr’:\n",
      "\n",
      "    smiths\n",
      "\n",
      "\n",
      "Attaching package: ‘lubridate’\n",
      "\n",
      "The following object is masked from ‘package:base’:\n",
      "\n",
      "    date\n",
      "\n",
      "Loading required package: Matrix\n",
      "\n",
      "Attaching package: ‘Matrix’\n",
      "\n",
      "The following object is masked from ‘package:tidyr’:\n",
      "\n",
      "    expand\n",
      "\n",
      "Loading required package: foreach\n",
      "\n",
      "Attaching package: ‘foreach’\n",
      "\n",
      "The following objects are masked from ‘package:purrr’:\n",
      "\n",
      "    accumulate, when\n",
      "\n",
      "Loaded glmnet 2.0-16\n",
      "\n",
      "\n",
      "Attaching package: ‘cowplot’\n",
      "\n",
      "The following object is masked from ‘package:lubridate’:\n",
      "\n",
      "    stamp\n",
      "\n"
     ]
    }
   ],
   "source": [
    "## Load in the required packages\n",
    "\n",
    "library(quantmod) \n",
    "library(tidyverse) \n",
    "library(reshape2) \n",
    "library(lubridate) \n",
    "library(glmnet)\n",
    "library(ISLR) \n",
    "library(cowplot) "
   ]
  },
  {
   "cell_type": "markdown",
   "id": "difficult-pavilion",
   "metadata": {
    "toc": true
   },
   "source": [
    "<h1>Table of Contents<span class=\"tocSkip\"></span></h1>\n",
    "<div class=\"toc\"><ul class=\"toc-item\"><li><span><a href=\"#Description\" data-toc-modified-id=\"Description-0\"><strong><em>Description</em></strong></a></span></li><li><span><a href=\"#Read-in-Functions\" data-toc-modified-id=\"Read-in-Functions-1\"><strong><em>Read in Functions</em></strong></a></span><ul class=\"toc-item\"><li><span><a href=\"#Define-Start-and-End-Dates\" data-toc-modified-id=\"Define-Start-and-End-Dates-1.1\"><strong><em>Define Start and End Dates</em></strong></a></span></li><li><span><a href=\"#Normalize_Data\" data-toc-modified-id=\"Normalize_Data-1.2\"><strong><em>Normalize_Data</em></strong></a></span></li><li><span><a href=\"#Read_FRED_Data\" data-toc-modified-id=\"Read_FRED_Data-1.3\"><strong><em>Read_FRED_Data</em></strong></a></span></li><li><span><a href=\"#Read_Yahoo_Data\" data-toc-modified-id=\"Read_Yahoo_Data-1.4\"><strong><em>Read_Yahoo_Data</em></strong></a></span></li></ul></li><li><span><a href=\"#Read-in-the-Data\" data-toc-modified-id=\"Read-in-the-Data-2\"><strong><em>Read in the Data</em></strong></a></span></li><li><span><a href=\"#Summarize-the-Data\" data-toc-modified-id=\"Summarize-the-Data-3\"><strong><em>Summarize the Data</em></strong></a></span><ul class=\"toc-item\"><li><span><a href=\"#Create-the-Lasso-Regression-Model\" data-toc-modified-id=\"Create-the-Lasso-Regression-Model-3.1\"><strong><em>Create the Lasso Regression Model</em></strong></a></span></li></ul></li></ul></div>"
   ]
  },
  {
   "cell_type": "markdown",
   "id": "proud-progressive",
   "metadata": {},
   "source": [
    "## ***Description*** \n",
    "\n",
    "We are looking to predict the S&P 500 returns using a min of 10 features. \n",
    "*******\n",
    "Start by downloading the data\n",
    "******* \n",
    "Define the outcome variable as the next period return of the S&P 500 \n",
    "******\n",
    "Find 10 feature variables that can be used as the predictors of the S&P 500 returns \n",
    "****** \n",
    "Build a Ridge Regression and a Lasso Regression using R's glmnet package \n",
    "Calibrate the models by selecting the lambda values that minimize the out of sample MSE \n",
    "***** \n",
    "Summarize the key insights found from the two different models \n"
   ]
  },
  {
   "cell_type": "markdown",
   "id": "attempted-kentucky",
   "metadata": {},
   "source": [
    "## ***Read in Functions***\n",
    "\n",
    "We are going to begin by writing functions responsible for reading in the data "
   ]
  },
  {
   "cell_type": "markdown",
   "id": "interesting-thinking",
   "metadata": {},
   "source": [
    "### ***Define Start and End Dates***\n",
    "\n",
    "Begin by defining the start and end dates we are going to use. \n",
    "This defines the training data range. \n"
   ]
  },
  {
   "cell_type": "code",
   "execution_count": 2,
   "id": "olympic-plane",
   "metadata": {
    "ExecuteTime": {
     "end_time": "2021-02-07T20:49:17.272286Z",
     "start_time": "2021-02-07T20:49:16.026Z"
    }
   },
   "outputs": [],
   "source": [
    "train_start <- as.Date('2000-01-01') \n",
    "train_end <-  Sys.Date()"
   ]
  },
  {
   "cell_type": "markdown",
   "id": "experimental-caribbean",
   "metadata": {},
   "source": [
    "### ***Normalize_Data*** "
   ]
  },
  {
   "cell_type": "code",
   "execution_count": 3,
   "id": "blond-august",
   "metadata": {
    "ExecuteTime": {
     "end_time": "2021-02-07T20:49:17.287003Z",
     "start_time": "2021-02-07T20:49:16.084Z"
    }
   },
   "outputs": [],
   "source": [
    "Normalize_Data <- function(x){\n",
    "    ## Normalize the data in order to remove any effects\n",
    "    ## The units of measurement may have on the result \n",
    "    \n",
    "    return((x - mean(x)) / sd(x) ) \n",
    "}"
   ]
  },
  {
   "cell_type": "markdown",
   "id": "veterinary-framework",
   "metadata": {},
   "source": [
    "### ***Read_FRED_Data***\n",
    "We are going to create a function that read in data from FRED"
   ]
  },
  {
   "cell_type": "code",
   "execution_count": 4,
   "id": "failing-sheep",
   "metadata": {
    "ExecuteTime": {
     "end_time": "2021-02-07T20:49:17.297092Z",
     "start_time": "2021-02-07T20:49:16.138Z"
    }
   },
   "outputs": [],
   "source": [
    "Read_FRED_Data <- function(start = train_start, \n",
    "                           end = train_end, ticker){\n",
    "    \n",
    "    ## Read in the fred data\n",
    "    df <- getSymbols(ticker, src = 'FRED', auto.assign = F, from = start, \n",
    "                    to = end)  \n",
    "    \n",
    "    ## Find the dates and the values \n",
    "    df_dates <- index(df) \n",
    "    ## Convert data into dataframe\n",
    "    data <- as_tibble(df) \n",
    "    ## Rename the columns so we can more easily handle it in tibble \n",
    "    names(data) <- c('value') \n",
    " \n",
    "    \n",
    "    data <- data %>% \n",
    "        ## Add the dates to the dataframe \n",
    "        add_column(date = df_dates) %>% \n",
    "    \n",
    "        ## Normalize the data in order to remove any effect different\n",
    "        ## units of measurement may have on correlation\n",
    "        mutate(value = Normalize_Data(value)) %>%  \n",
    "    \n",
    "        ## Group the data into 3 month periods \n",
    "        ## Take the first datapoint from each period \n",
    "        ## So we can see the quarterly data intervals for predictions \n",
    "        group_by(quarter = quarter(date, with_year = T) ) %>% \n",
    "        summarize(value = first(value)) %>% \n",
    "        filter(quarter > quarter(train_start, with_year = T)) \n",
    "    \n",
    "    ## Rename the columns back to original ticker name and date for easy formatting \n",
    "    names(data) <- c('date', ticker) \n",
    "        \n",
    "    return(data) \n",
    "    \n",
    "}"
   ]
  },
  {
   "cell_type": "markdown",
   "id": "corporate-weekly",
   "metadata": {},
   "source": [
    "### ***Read_Yahoo_Data*** "
   ]
  },
  {
   "cell_type": "code",
   "execution_count": 5,
   "id": "simple-registrar",
   "metadata": {
    "ExecuteTime": {
     "end_time": "2021-02-07T20:49:17.309117Z",
     "start_time": "2021-02-07T20:49:16.192Z"
    }
   },
   "outputs": [],
   "source": [
    "Read_Yahoo_Data <- function(start = train_start, \n",
    "                           to = train_end, \n",
    "                           ticker){\n",
    "    \n",
    "    ## Read in ticker symbols for the s&p500 data \n",
    "    data <- getSymbols('^GSPC', src = 'yahoo', \n",
    "                    from = train_start, to = train_end, \n",
    "                    auto.assign = F, period = 'monthly') \n",
    "    \n",
    "    ## Read in the dates\n",
    "    dates <- index(data) \n",
    "    \n",
    "    ## Convert to a dataframe \n",
    "    df <- as_tibble(data) \n",
    "    ## Rename all the columns for easy access and add the date\n",
    "    names(df) <- c('open', 'high', 'low', 'close', 'volume', 'adjusted') \n",
    "    df$date <- dates\n",
    "    \n",
    "    ## We only need the date and the adjusted close columns \n",
    "    df <- df[,c('date', 'adjusted')] %>% \n",
    "    \n",
    "        ## Normalize the adjusted closing data \n",
    "        mutate(adjusted = Normalize_Data(adjusted) ) %>% \n",
    "        \n",
    "        ## Format the date so that its broken up into quarters\n",
    "        ## and then group by quarter \n",
    "        ## Taking the first value of each quarter \n",
    "        group_by(date = quarter(date, with_year = T) ) %>% \n",
    "        summarize(adjusted = first(adjusted)) %>% \n",
    "        filter(date > quarter(train_start, with_year = T)) \n",
    "        \n",
    "    \n",
    "    return(df)\n",
    "}   \n",
    "\n"
   ]
  },
  {
   "cell_type": "markdown",
   "id": "official-blanket",
   "metadata": {},
   "source": [
    "## ***Read in the Data*** \n",
    "\n",
    "We need to find 10 different independent variables that can predict the future outcome of the S&P_500. We will combine them together in a single dataframe so we can then run the linear regressions\n",
    "\n",
    "**** \n",
    "We are going to look at the following dependent variables: \n",
    "1. Unemployment Rate \n",
    "2. Real Personal Consumption Expenditure\n",
    "3. Real Gross Domestic Product Per Capita \n",
    "4. Cash Assets, All Commercial Banks\n",
    "5. Corporate Profits After Tax\n",
    "6. Total Population \n",
    "7. Real Net Exports of goods and services \n",
    "8. Personal Consumption expenditures per capita\n",
    "9. M2 Money Stock (M1 + time deposits) \n",
    "10. VIX (volatility index) from chicago board options exchange\n"
   ]
  },
  {
   "cell_type": "code",
   "execution_count": 8,
   "id": "green-steering",
   "metadata": {
    "ExecuteTime": {
     "end_time": "2021-02-07T20:49:34.329275Z",
     "start_time": "2021-02-07T20:49:34.307Z"
    }
   },
   "outputs": [],
   "source": [
    "## Read in the ticker symbols for all the fred data\n",
    "fred_data <- c('UNRATE', ## unemployment rate\n",
    "               'CPIAUCNS', ## consumer pricing index for all urban consumers\n",
    "               'A939RX0Q048SBEA', # Real Gross Domestic Product Per Capita\n",
    "               'CASACBQ158SBOG', # Cash Assets, all commercial banks\n",
    "               'CP', # Corporate Profits After Tax \n",
    "               'B230RC0Q173SBEA', ## Total Population\n",
    "               'NETEXC', ## Real Net Exports of goods and services\n",
    "               'A794RC0Q052SBEA',  ## Personal Consumption expenditures per capita\n",
    "               'M2' ## M2 Money Stock \n",
    "              )\n",
    "feature_names <- c('date', \n",
    "                    'unemployment', \n",
    "                    'consumer_pricing_index', \n",
    "                    'gdp_per_capita', \n",
    "                    'cash_assets_in_commercial_banks', \n",
    "                    'corporate_profits_after_tax', \n",
    "                    'total_population', \n",
    "                    'net_exports_goods_services', \n",
    "                    'personal_consumption_expenditures_per_capita', \n",
    "                    'm2_money_stock', \n",
    "                    'cboe_vix', 'sp500')  "
   ]
  },
  {
   "cell_type": "code",
   "execution_count": 9,
   "id": "blind-mistress",
   "metadata": {
    "ExecuteTime": {
     "end_time": "2021-02-07T20:49:37.761850Z",
     "start_time": "2021-02-07T20:49:34.665Z"
    }
   },
   "outputs": [
    {
     "name": "stderr",
     "output_type": "stream",
     "text": [
      "Joining, by = \"date\"\n",
      "Joining, by = \"date\"\n",
      "Joining, by = \"date\"\n",
      "Joining, by = \"date\"\n",
      "Joining, by = \"date\"\n",
      "Joining, by = \"date\"\n",
      "Joining, by = \"date\"\n",
      "Joining, by = \"date\"\n",
      "Joining, by = \"date\"\n",
      "Joining, by = \"date\"\n",
      "Joining, by = \"date\"\n"
     ]
    },
    {
     "data": {
      "text/html": [
       "<table>\n",
       "<thead><tr><th scope=col>date</th><th scope=col>unemployment</th><th scope=col>consumer_pricing_index</th><th scope=col>gdp_per_capita</th><th scope=col>cash_assets_in_commercial_banks</th><th scope=col>corporate_profits_after_tax</th><th scope=col>total_population</th><th scope=col>net_exports_goods_services</th><th scope=col>personal_consumption_expenditures_per_capita</th><th scope=col>m2_money_stock</th><th scope=col>cboe_vix</th><th scope=col>sp500</th></tr></thead>\n",
       "<tbody>\n",
       "\t<tr><td>2000.2      </td><td>-1.1531259  </td><td>1.128794    </td><td>0.9404985   </td><td>-0.11482788 </td><td> 0.018749563</td><td>0.7880232   </td><td>-0.5397744  </td><td>0.6628294   </td><td>-0.4123912  </td><td>-0.2287531  </td><td>-0.2287531  </td></tr>\n",
       "\t<tr><td>2000.3      </td><td>-1.0358951  </td><td>1.147679    </td><td>0.9358062   </td><td>-0.40675930 </td><td> 0.008336457</td><td>0.8019429   </td><td>-0.6450971  </td><td>0.6861359   </td><td>-0.4031681  </td><td>-0.2816918  </td><td>-0.2816918  </td></tr>\n",
       "\t<tr><td>2000.4      </td><td>-1.0945105  </td><td>1.162787    </td><td>0.9479768   </td><td>-0.31773057 </td><td>-0.026018958</td><td>0.8155360   </td><td>-0.6818328  </td><td>0.7065750   </td><td>-0.3822369  </td><td>-0.3300967  </td><td>-0.3300967  </td></tr>\n",
       "\t<tr><td>2001.1      </td><td>-0.9186643  </td><td>1.176636    </td><td>0.9303808   </td><td>-0.04443307 </td><td> 0.033178902</td><td>0.8273506   </td><td>-0.6470369  </td><td>0.7217940   </td><td>-0.3599438  </td><td>-0.5523727  </td><td>-0.5523727  </td></tr>\n",
       "\t<tr><td>2001.2      </td><td>-0.8014335  </td><td>1.199297    </td><td>0.9422581   </td><td>-0.42953409 </td><td> 0.069708711</td><td>0.8394918   </td><td>-0.6020204  </td><td>0.7303226   </td><td>-0.3248912  </td><td>-0.7520374  </td><td>-0.7520374  </td></tr>\n",
       "\t<tr><td>2001.3      </td><td>-0.6842027  </td><td>1.206851    </td><td>0.9191633   </td><td> 0.43383756 </td><td>-0.003955261</td><td>0.8530304   </td><td>-0.6885395  </td><td>0.7328958   </td><td>-0.3055131  </td><td>-0.6200175  </td><td>-0.6200175  </td></tr>\n",
       "</tbody>\n",
       "</table>\n"
      ],
      "text/latex": [
       "\\begin{tabular}{r|llllllllllll}\n",
       " date & unemployment & consumer\\_pricing\\_index & gdp\\_per\\_capita & cash\\_assets\\_in\\_commercial\\_banks & corporate\\_profits\\_after\\_tax & total\\_population & net\\_exports\\_goods\\_services & personal\\_consumption\\_expenditures\\_per\\_capita & m2\\_money\\_stock & cboe\\_vix & sp500\\\\\n",
       "\\hline\n",
       "\t 2000.2       & -1.1531259   & 1.128794     & 0.9404985    & -0.11482788  &  0.018749563 & 0.7880232    & -0.5397744   & 0.6628294    & -0.4123912   & -0.2287531   & -0.2287531  \\\\\n",
       "\t 2000.3       & -1.0358951   & 1.147679     & 0.9358062    & -0.40675930  &  0.008336457 & 0.8019429    & -0.6450971   & 0.6861359    & -0.4031681   & -0.2816918   & -0.2816918  \\\\\n",
       "\t 2000.4       & -1.0945105   & 1.162787     & 0.9479768    & -0.31773057  & -0.026018958 & 0.8155360    & -0.6818328   & 0.7065750    & -0.3822369   & -0.3300967   & -0.3300967  \\\\\n",
       "\t 2001.1       & -0.9186643   & 1.176636     & 0.9303808    & -0.04443307  &  0.033178902 & 0.8273506    & -0.6470369   & 0.7217940    & -0.3599438   & -0.5523727   & -0.5523727  \\\\\n",
       "\t 2001.2       & -0.8014335   & 1.199297     & 0.9422581    & -0.42953409  &  0.069708711 & 0.8394918    & -0.6020204   & 0.7303226    & -0.3248912   & -0.7520374   & -0.7520374  \\\\\n",
       "\t 2001.3       & -0.6842027   & 1.206851     & 0.9191633    &  0.43383756  & -0.003955261 & 0.8530304    & -0.6885395   & 0.7328958    & -0.3055131   & -0.6200175   & -0.6200175  \\\\\n",
       "\\end{tabular}\n"
      ],
      "text/markdown": [
       "\n",
       "| date | unemployment | consumer_pricing_index | gdp_per_capita | cash_assets_in_commercial_banks | corporate_profits_after_tax | total_population | net_exports_goods_services | personal_consumption_expenditures_per_capita | m2_money_stock | cboe_vix | sp500 |\n",
       "|---|---|---|---|---|---|---|---|---|---|---|---|\n",
       "| 2000.2       | -1.1531259   | 1.128794     | 0.9404985    | -0.11482788  |  0.018749563 | 0.7880232    | -0.5397744   | 0.6628294    | -0.4123912   | -0.2287531   | -0.2287531   |\n",
       "| 2000.3       | -1.0358951   | 1.147679     | 0.9358062    | -0.40675930  |  0.008336457 | 0.8019429    | -0.6450971   | 0.6861359    | -0.4031681   | -0.2816918   | -0.2816918   |\n",
       "| 2000.4       | -1.0945105   | 1.162787     | 0.9479768    | -0.31773057  | -0.026018958 | 0.8155360    | -0.6818328   | 0.7065750    | -0.3822369   | -0.3300967   | -0.3300967   |\n",
       "| 2001.1       | -0.9186643   | 1.176636     | 0.9303808    | -0.04443307  |  0.033178902 | 0.8273506    | -0.6470369   | 0.7217940    | -0.3599438   | -0.5523727   | -0.5523727   |\n",
       "| 2001.2       | -0.8014335   | 1.199297     | 0.9422581    | -0.42953409  |  0.069708711 | 0.8394918    | -0.6020204   | 0.7303226    | -0.3248912   | -0.7520374   | -0.7520374   |\n",
       "| 2001.3       | -0.6842027   | 1.206851     | 0.9191633    |  0.43383756  | -0.003955261 | 0.8530304    | -0.6885395   | 0.7328958    | -0.3055131   | -0.6200175   | -0.6200175   |\n",
       "\n"
      ],
      "text/plain": [
       "  date   unemployment consumer_pricing_index gdp_per_capita\n",
       "1 2000.2 -1.1531259   1.128794               0.9404985     \n",
       "2 2000.3 -1.0358951   1.147679               0.9358062     \n",
       "3 2000.4 -1.0945105   1.162787               0.9479768     \n",
       "4 2001.1 -0.9186643   1.176636               0.9303808     \n",
       "5 2001.2 -0.8014335   1.199297               0.9422581     \n",
       "6 2001.3 -0.6842027   1.206851               0.9191633     \n",
       "  cash_assets_in_commercial_banks corporate_profits_after_tax total_population\n",
       "1 -0.11482788                      0.018749563                0.7880232       \n",
       "2 -0.40675930                      0.008336457                0.8019429       \n",
       "3 -0.31773057                     -0.026018958                0.8155360       \n",
       "4 -0.04443307                      0.033178902                0.8273506       \n",
       "5 -0.42953409                      0.069708711                0.8394918       \n",
       "6  0.43383756                     -0.003955261                0.8530304       \n",
       "  net_exports_goods_services personal_consumption_expenditures_per_capita\n",
       "1 -0.5397744                 0.6628294                                   \n",
       "2 -0.6450971                 0.6861359                                   \n",
       "3 -0.6818328                 0.7065750                                   \n",
       "4 -0.6470369                 0.7217940                                   \n",
       "5 -0.6020204                 0.7303226                                   \n",
       "6 -0.6885395                 0.7328958                                   \n",
       "  m2_money_stock cboe_vix   sp500     \n",
       "1 -0.4123912     -0.2287531 -0.2287531\n",
       "2 -0.4031681     -0.2816918 -0.2816918\n",
       "3 -0.3822369     -0.3300967 -0.3300967\n",
       "4 -0.3599438     -0.5523727 -0.5523727\n",
       "5 -0.3248912     -0.7520374 -0.7520374\n",
       "6 -0.3055131     -0.6200175 -0.6200175"
      ]
     },
     "metadata": {},
     "output_type": "display_data"
    }
   ],
   "source": [
    "## Create a dataframe to store all the FRED Data. Make sure the dates match up\n",
    "features <- tibble(date = numeric())\n",
    "\n",
    "for (i in fred_data){\n",
    "    ## Join the dataframe to append the FRED data\n",
    "    ## Match them up with the correct dates \n",
    "\n",
    "    \n",
    "    features <- features %>% \n",
    "        full_join(Read_FRED_Data(ticker = i))\n",
    "        ## rename column\n",
    "    \n",
    "\n",
    "}\n",
    "\n",
    "## Read in sp500 data\n",
    "sp500 <- Read_Yahoo_Data(ticker = '^GSPC') %>% rename(sp500 = adjusted) \n",
    "\n",
    "## Add in the VIX data from Yahoo Data \n",
    "features <- features %>% \n",
    "    full_join(Read_Yahoo_Data(ticker = '^VIX')) %>% rename(vix = adjusted) %>% \n",
    "    full_join(sp500) \n",
    "\n",
    "## Rename the Data columns \n",
    "names(features) <- feature_names\n",
    "## drop the null values \n",
    "features <- features %>% drop_na()\n",
    "head(features) "
   ]
  },
  {
   "cell_type": "code",
   "execution_count": null,
   "id": "increased-rental",
   "metadata": {
    "ExecuteTime": {
     "end_time": "2021-02-07T20:49:21.734307Z",
     "start_time": "2021-02-07T20:49:16.252Z"
    }
   },
   "outputs": [],
   "source": [
    "## Plot FRED Data \n",
    "dependent_features_plot <- ggplot(data = melt(features, id = c('date')), \n",
    "       aes(x = date, y = value, col = variable)) + \n",
    "        geom_line() + \n",
    "        labs(x = 'Date', y = 'Normalized FRED Data', \n",
    "            colours = 'Variables', \n",
    "            title = 'Plot Normalized FRED Data Over Time')\n",
    "\n",
    "sp500_plot <- ggplot(data = sp500, aes(x = date, y = sp500)) + geom_line() + \n",
    "    labs(x = 'Date', y = 'SP500 Adjusted Close', title = 'SP500 Adjusted Close Over Time') \n",
    "\n",
    "## Plot the FRED data over time as well as the SP500 over time \n",
    "plot_grid(dependent_features_plot, sp500_plot, ncol = 1) "
   ]
  },
  {
   "cell_type": "markdown",
   "id": "scientific-christian",
   "metadata": {},
   "source": [
    "## ***Summarize the Data*** \n",
    "\n",
    "Now we have all the data we need"
   ]
  },
  {
   "cell_type": "code",
   "execution_count": 30,
   "id": "fallen-arrow",
   "metadata": {
    "ExecuteTime": {
     "end_time": "2021-02-07T21:20:17.843980Z",
     "start_time": "2021-02-07T21:20:17.803Z"
    }
   },
   "outputs": [
    {
     "data": {
      "text/html": [
       "<table>\n",
       "<thead><tr><th scope=col>names</th><th scope=col>std</th><th scope=col>mean</th><th scope=col>min</th><th scope=col>max</th><th scope=col>p.25</th><th scope=col>p.50</th><th scope=col>p.75</th></tr></thead>\n",
       "<tbody>\n",
       "\t<tr><td>consumer_pricing_index                      </td><td>0.3276025                                   </td><td> 1.70598926                                 </td><td> 1.12879393                                 </td><td> 2.2342012                                  </td><td> 1.4246569718                               </td><td> 1.7212880                                  </td><td> 1.96522708                                 </td></tr>\n",
       "\t<tr><td>gdp_per_capita                              </td><td>0.2438614                                   </td><td> 1.30712897                                 </td><td> 0.91916326                                 </td><td> 1.8071784                                  </td><td> 1.1500750699                               </td><td> 1.2946928                                  </td><td> 1.49842234                                 </td></tr>\n",
       "\t<tr><td>cash_assets_in_commercial_banks             </td><td>1.4938156                                   </td><td> 0.11958583                                 </td><td>-0.85397339                                 </td><td>11.5727812                                  </td><td>-0.3839845066                               </td><td>-0.1531309                                  </td><td> 0.08445155                                 </td></tr>\n",
       "\t<tr><td>corporate_profits_after_tax                 </td><td>0.7557202                                   </td><td> 1.43583656                                 </td><td>-0.02978737                                 </td><td> 2.5753326                                  </td><td> 0.9502640916                               </td><td> 1.6227884                                  </td><td> 2.05258601                                 </td></tr>\n",
       "\t<tr><td>total_population                            </td><td>0.2638900                                   </td><td> 1.26574322                                 </td><td> 0.78802321                                 </td><td> 1.6657837                                  </td><td> 1.0379978266                               </td><td> 1.2918017                                  </td><td> 1.49664609                                 </td></tr>\n",
       "\t<tr><td>net_exports_goods_services                  </td><td>0.4636360                                   </td><td>-1.09284668                                 </td><td>-2.07504892                                 </td><td>-0.2504139                                  </td><td>-1.5095908993                               </td><td>-1.1488013                                  </td><td>-0.65619856                                 </td></tr>\n",
       "\t<tr><td>personal_consumption_expenditures_per_capita</td><td>0.4367802                                   </td><td> 1.39982197                                 </td><td> 0.66282938                                 </td><td> 2.2104675                                  </td><td> 1.0806181437                               </td><td> 1.3445254                                  </td><td> 1.74365791                                 </td></tr>\n",
       "\t<tr><td>m2_money_stock                              </td><td>0.8016129                                   </td><td> 0.69662549                                 </td><td>-0.41239123                                 </td><td> 2.8357430                                  </td><td>-0.0002008239                               </td><td> 0.4986175                                  </td><td> 1.32836848                                 </td></tr>\n",
       "\t<tr><td>cboe_vix                                    </td><td>0.9068680                                   </td><td>-0.06998955                                 </td><td>-1.23854218                                 </td><td> 2.3170161                                  </td><td>-0.7481101864                               </td><td>-0.3923502                                  </td><td> 0.55718341                                 </td></tr>\n",
       "\t<tr><td>sp500                                       </td><td>0.9068680                                   </td><td>-0.06998955                                 </td><td>-1.23854218                                 </td><td> 2.3170161                                  </td><td>-0.7481101864                               </td><td>-0.3923502                                  </td><td> 0.55718341                                 </td></tr>\n",
       "</tbody>\n",
       "</table>\n"
      ],
      "text/latex": [
       "\\begin{tabular}{r|llllllll}\n",
       " names & std & mean & min & max & p.25 & p.50 & p.75\\\\\n",
       "\\hline\n",
       "\t consumer\\_pricing\\_index                       & 0.3276025                                        &  1.70598926                                      &  1.12879393                                      &  2.2342012                                       &  1.4246569718                                    &  1.7212880                                       &  1.96522708                                     \\\\\n",
       "\t gdp\\_per\\_capita                               & 0.2438614                                        &  1.30712897                                      &  0.91916326                                      &  1.8071784                                       &  1.1500750699                                    &  1.2946928                                       &  1.49842234                                     \\\\\n",
       "\t cash\\_assets\\_in\\_commercial\\_banks              & 1.4938156                                            &  0.11958583                                          & -0.85397339                                          & 11.5727812                                           & -0.3839845066                                        & -0.1531309                                           &  0.08445155                                         \\\\\n",
       "\t corporate\\_profits\\_after\\_tax                  & 0.7557202                                          &  1.43583656                                        & -0.02978737                                        &  2.5753326                                         &  0.9502640916                                      &  1.6227884                                         &  2.05258601                                       \\\\\n",
       "\t total\\_population                             & 0.2638900                                      &  1.26574322                                    &  0.78802321                                    &  1.6657837                                     &  1.0379978266                                  &  1.2918017                                     &  1.49664609                                   \\\\\n",
       "\t net\\_exports\\_goods\\_services                   & 0.4636360                                          & -1.09284668                                        & -2.07504892                                        & -0.2504139                                         & -1.5095908993                                      & -1.1488013                                         & -0.65619856                                       \\\\\n",
       "\t personal\\_consumption\\_expenditures\\_per\\_capita & 0.4367802                                            &  1.39982197                                          &  0.66282938                                          &  2.2104675                                           &  1.0806181437                                        &  1.3445254                                           &  1.74365791                                         \\\\\n",
       "\t m2\\_money\\_stock                               & 0.8016129                                        &  0.69662549                                      & -0.41239123                                      &  2.8357430                                       & -0.0002008239                                    &  0.4986175                                       &  1.32836848                                     \\\\\n",
       "\t cboe\\_vix                                     & 0.9068680                                      & -0.06998955                                    & -1.23854218                                    &  2.3170161                                     & -0.7481101864                                  & -0.3923502                                     &  0.55718341                                   \\\\\n",
       "\t sp500                                        & 0.9068680                                    & -0.06998955                                  & -1.23854218                                  &  2.3170161                                   & -0.7481101864                                & -0.3923502                                   &  0.55718341                                 \\\\\n",
       "\\end{tabular}\n"
      ],
      "text/markdown": [
       "\n",
       "| names | std | mean | min | max | p.25 | p.50 | p.75 |\n",
       "|---|---|---|---|---|---|---|---|\n",
       "| consumer_pricing_index                       | 0.3276025                                    |  1.70598926                                  |  1.12879393                                  |  2.2342012                                   |  1.4246569718                                |  1.7212880                                   |  1.96522708                                  |\n",
       "| gdp_per_capita                               | 0.2438614                                    |  1.30712897                                  |  0.91916326                                  |  1.8071784                                   |  1.1500750699                                |  1.2946928                                   |  1.49842234                                  |\n",
       "| cash_assets_in_commercial_banks              | 1.4938156                                    |  0.11958583                                  | -0.85397339                                  | 11.5727812                                   | -0.3839845066                                | -0.1531309                                   |  0.08445155                                  |\n",
       "| corporate_profits_after_tax                  | 0.7557202                                    |  1.43583656                                  | -0.02978737                                  |  2.5753326                                   |  0.9502640916                                |  1.6227884                                   |  2.05258601                                  |\n",
       "| total_population                             | 0.2638900                                    |  1.26574322                                  |  0.78802321                                  |  1.6657837                                   |  1.0379978266                                |  1.2918017                                   |  1.49664609                                  |\n",
       "| net_exports_goods_services                   | 0.4636360                                    | -1.09284668                                  | -2.07504892                                  | -0.2504139                                   | -1.5095908993                                | -1.1488013                                   | -0.65619856                                  |\n",
       "| personal_consumption_expenditures_per_capita | 0.4367802                                    |  1.39982197                                  |  0.66282938                                  |  2.2104675                                   |  1.0806181437                                |  1.3445254                                   |  1.74365791                                  |\n",
       "| m2_money_stock                               | 0.8016129                                    |  0.69662549                                  | -0.41239123                                  |  2.8357430                                   | -0.0002008239                                |  0.4986175                                   |  1.32836848                                  |\n",
       "| cboe_vix                                     | 0.9068680                                    | -0.06998955                                  | -1.23854218                                  |  2.3170161                                   | -0.7481101864                                | -0.3923502                                   |  0.55718341                                  |\n",
       "| sp500                                        | 0.9068680                                    | -0.06998955                                  | -1.23854218                                  |  2.3170161                                   | -0.7481101864                                | -0.3923502                                   |  0.55718341                                  |\n",
       "\n"
      ],
      "text/plain": [
       "   names                                        std       mean       \n",
       "1  consumer_pricing_index                       0.3276025  1.70598926\n",
       "2  gdp_per_capita                               0.2438614  1.30712897\n",
       "3  cash_assets_in_commercial_banks              1.4938156  0.11958583\n",
       "4  corporate_profits_after_tax                  0.7557202  1.43583656\n",
       "5  total_population                             0.2638900  1.26574322\n",
       "6  net_exports_goods_services                   0.4636360 -1.09284668\n",
       "7  personal_consumption_expenditures_per_capita 0.4367802  1.39982197\n",
       "8  m2_money_stock                               0.8016129  0.69662549\n",
       "9  cboe_vix                                     0.9068680 -0.06998955\n",
       "10 sp500                                        0.9068680 -0.06998955\n",
       "   min         max        p.25          p.50       p.75       \n",
       "1   1.12879393  2.2342012  1.4246569718  1.7212880  1.96522708\n",
       "2   0.91916326  1.8071784  1.1500750699  1.2946928  1.49842234\n",
       "3  -0.85397339 11.5727812 -0.3839845066 -0.1531309  0.08445155\n",
       "4  -0.02978737  2.5753326  0.9502640916  1.6227884  2.05258601\n",
       "5   0.78802321  1.6657837  1.0379978266  1.2918017  1.49664609\n",
       "6  -2.07504892 -0.2504139 -1.5095908993 -1.1488013 -0.65619856\n",
       "7   0.66282938  2.2104675  1.0806181437  1.3445254  1.74365791\n",
       "8  -0.41239123  2.8357430 -0.0002008239  0.4986175  1.32836848\n",
       "9  -1.23854218  2.3170161 -0.7481101864 -0.3923502  0.55718341\n",
       "10 -1.23854218  2.3170161 -0.7481101864 -0.3923502  0.55718341"
      ]
     },
     "metadata": {},
     "output_type": "display_data"
    }
   ],
   "source": [
    "summary <- tibble(names = names(features), \n",
    "            std = sapply(features, sd), \n",
    "            mean = sapply(features, mean), \n",
    "            min = sapply(features, min), \n",
    "            max = sapply(features, max), \n",
    "             p.25 = 1, \n",
    "             p.50 = 1, \n",
    "             p.75 = 1)\n",
    "\n",
    "v1 <- c(0.25,0.50,0.75)\n",
    "summary[,c(6:8)] <- t(sapply(features, function(x) quantile(x,probs = v1)))\n",
    "\n",
    "## Remove date\n",
    "summary <- std[-1,]\n",
    "summary"
   ]
  },
  {
   "cell_type": "markdown",
   "id": "endless-garden",
   "metadata": {},
   "source": [
    "### ***Create the Lasso Regression Model*** "
   ]
  },
  {
   "cell_type": "code",
   "execution_count": 56,
   "id": "electric-fault",
   "metadata": {
    "ExecuteTime": {
     "end_time": "2021-02-07T21:25:29.961435Z",
     "start_time": "2021-02-07T21:25:29.932Z"
    }
   },
   "outputs": [
    {
     "data": {
      "text/html": [
       "<table>\n",
       "<thead><tr><th scope=col>unemployment</th><th scope=col>consumer_pricing_index</th><th scope=col>gdp_per_capita</th><th scope=col>cash_assets_in_commercial_banks</th><th scope=col>corporate_profits_after_tax</th><th scope=col>total_population</th><th scope=col>net_exports_goods_services</th><th scope=col>personal_consumption_expenditures_per_capita</th><th scope=col>m2_money_stock</th><th scope=col>cboe_vix</th></tr></thead>\n",
       "<tbody>\n",
       "\t<tr><td>-1.1531259  </td><td>1.128794    </td><td>0.9404985   </td><td>-0.11482788 </td><td> 0.018749563</td><td>0.7880232   </td><td>-0.5397744  </td><td>0.6628294   </td><td>-0.4123912  </td><td>-0.2287531  </td></tr>\n",
       "\t<tr><td>-1.0358951  </td><td>1.147679    </td><td>0.9358062   </td><td>-0.40675930 </td><td> 0.008336457</td><td>0.8019429   </td><td>-0.6450971  </td><td>0.6861359   </td><td>-0.4031681  </td><td>-0.2816918  </td></tr>\n",
       "\t<tr><td>-1.0945105  </td><td>1.162787    </td><td>0.9479768   </td><td>-0.31773057 </td><td>-0.026018958</td><td>0.8155360   </td><td>-0.6818328  </td><td>0.7065750   </td><td>-0.3822369  </td><td>-0.3300967  </td></tr>\n",
       "\t<tr><td>-0.9186643  </td><td>1.176636    </td><td>0.9303808   </td><td>-0.04443307 </td><td> 0.033178902</td><td>0.8273506   </td><td>-0.6470369  </td><td>0.7217940   </td><td>-0.3599438  </td><td>-0.5523727  </td></tr>\n",
       "\t<tr><td>-0.8014335  </td><td>1.199297    </td><td>0.9422581   </td><td>-0.42953409 </td><td> 0.069708711</td><td>0.8394918   </td><td>-0.6020204  </td><td>0.7303226   </td><td>-0.3248912  </td><td>-0.7520374  </td></tr>\n",
       "\t<tr><td>-0.6842027  </td><td>1.206851    </td><td>0.9191633   </td><td> 0.43383756 </td><td>-0.003955261</td><td>0.8530304   </td><td>-0.6885395  </td><td>0.7328958   </td><td>-0.3055131  </td><td>-0.6200175  </td></tr>\n",
       "</tbody>\n",
       "</table>\n"
      ],
      "text/latex": [
       "\\begin{tabular}{r|llllllllll}\n",
       " unemployment & consumer\\_pricing\\_index & gdp\\_per\\_capita & cash\\_assets\\_in\\_commercial\\_banks & corporate\\_profits\\_after\\_tax & total\\_population & net\\_exports\\_goods\\_services & personal\\_consumption\\_expenditures\\_per\\_capita & m2\\_money\\_stock & cboe\\_vix\\\\\n",
       "\\hline\n",
       "\t -1.1531259   & 1.128794     & 0.9404985    & -0.11482788  &  0.018749563 & 0.7880232    & -0.5397744   & 0.6628294    & -0.4123912   & -0.2287531  \\\\\n",
       "\t -1.0358951   & 1.147679     & 0.9358062    & -0.40675930  &  0.008336457 & 0.8019429    & -0.6450971   & 0.6861359    & -0.4031681   & -0.2816918  \\\\\n",
       "\t -1.0945105   & 1.162787     & 0.9479768    & -0.31773057  & -0.026018958 & 0.8155360    & -0.6818328   & 0.7065750    & -0.3822369   & -0.3300967  \\\\\n",
       "\t -0.9186643   & 1.176636     & 0.9303808    & -0.04443307  &  0.033178902 & 0.8273506    & -0.6470369   & 0.7217940    & -0.3599438   & -0.5523727  \\\\\n",
       "\t -0.8014335   & 1.199297     & 0.9422581    & -0.42953409  &  0.069708711 & 0.8394918    & -0.6020204   & 0.7303226    & -0.3248912   & -0.7520374  \\\\\n",
       "\t -0.6842027   & 1.206851     & 0.9191633    &  0.43383756  & -0.003955261 & 0.8530304    & -0.6885395   & 0.7328958    & -0.3055131   & -0.6200175  \\\\\n",
       "\\end{tabular}\n"
      ],
      "text/markdown": [
       "\n",
       "| unemployment | consumer_pricing_index | gdp_per_capita | cash_assets_in_commercial_banks | corporate_profits_after_tax | total_population | net_exports_goods_services | personal_consumption_expenditures_per_capita | m2_money_stock | cboe_vix |\n",
       "|---|---|---|---|---|---|---|---|---|---|\n",
       "| -1.1531259   | 1.128794     | 0.9404985    | -0.11482788  |  0.018749563 | 0.7880232    | -0.5397744   | 0.6628294    | -0.4123912   | -0.2287531   |\n",
       "| -1.0358951   | 1.147679     | 0.9358062    | -0.40675930  |  0.008336457 | 0.8019429    | -0.6450971   | 0.6861359    | -0.4031681   | -0.2816918   |\n",
       "| -1.0945105   | 1.162787     | 0.9479768    | -0.31773057  | -0.026018958 | 0.8155360    | -0.6818328   | 0.7065750    | -0.3822369   | -0.3300967   |\n",
       "| -0.9186643   | 1.176636     | 0.9303808    | -0.04443307  |  0.033178902 | 0.8273506    | -0.6470369   | 0.7217940    | -0.3599438   | -0.5523727   |\n",
       "| -0.8014335   | 1.199297     | 0.9422581    | -0.42953409  |  0.069708711 | 0.8394918    | -0.6020204   | 0.7303226    | -0.3248912   | -0.7520374   |\n",
       "| -0.6842027   | 1.206851     | 0.9191633    |  0.43383756  | -0.003955261 | 0.8530304    | -0.6885395   | 0.7328958    | -0.3055131   | -0.6200175   |\n",
       "\n"
      ],
      "text/plain": [
       "  unemployment consumer_pricing_index gdp_per_capita\n",
       "1 -1.1531259   1.128794               0.9404985     \n",
       "2 -1.0358951   1.147679               0.9358062     \n",
       "3 -1.0945105   1.162787               0.9479768     \n",
       "4 -0.9186643   1.176636               0.9303808     \n",
       "5 -0.8014335   1.199297               0.9422581     \n",
       "6 -0.6842027   1.206851               0.9191633     \n",
       "  cash_assets_in_commercial_banks corporate_profits_after_tax total_population\n",
       "1 -0.11482788                      0.018749563                0.7880232       \n",
       "2 -0.40675930                      0.008336457                0.8019429       \n",
       "3 -0.31773057                     -0.026018958                0.8155360       \n",
       "4 -0.04443307                      0.033178902                0.8273506       \n",
       "5 -0.42953409                      0.069708711                0.8394918       \n",
       "6  0.43383756                     -0.003955261                0.8530304       \n",
       "  net_exports_goods_services personal_consumption_expenditures_per_capita\n",
       "1 -0.5397744                 0.6628294                                   \n",
       "2 -0.6450971                 0.6861359                                   \n",
       "3 -0.6818328                 0.7065750                                   \n",
       "4 -0.6470369                 0.7217940                                   \n",
       "5 -0.6020204                 0.7303226                                   \n",
       "6 -0.6885395                 0.7328958                                   \n",
       "  m2_money_stock cboe_vix  \n",
       "1 -0.4123912     -0.2287531\n",
       "2 -0.4031681     -0.2816918\n",
       "3 -0.3822369     -0.3300967\n",
       "4 -0.3599438     -0.5523727\n",
       "5 -0.3248912     -0.7520374\n",
       "6 -0.3055131     -0.6200175"
      ]
     },
     "metadata": {},
     "output_type": "display_data"
    }
   ],
   "source": [
    "model_features <- \n",
    "x <- model.matrix(sp500~., features)[,3:12]\n",
    "head(x) "
   ]
  },
  {
   "cell_type": "code",
   "execution_count": null,
   "id": "fundamental-appeal",
   "metadata": {},
   "outputs": [],
   "source": []
  }
 ],
 "metadata": {
  "hide_input": false,
  "kernelspec": {
   "display_name": "R",
   "language": "R",
   "name": "ir"
  },
  "language_info": {
   "codemirror_mode": "r",
   "file_extension": ".r",
   "mimetype": "text/x-r-source",
   "name": "R",
   "pygments_lexer": "r",
   "version": "3.6.1"
  },
  "latex_envs": {
   "LaTeX_envs_menu_present": true,
   "autoclose": false,
   "autocomplete": true,
   "bibliofile": "biblio.bib",
   "cite_by": "apalike",
   "current_citInitial": 1,
   "eqLabelWithNumbers": true,
   "eqNumInitial": 1,
   "hotkeys": {
    "equation": "Ctrl-E",
    "itemize": "Ctrl-I"
   },
   "labels_anchors": false,
   "latex_user_defs": false,
   "report_style_numbering": false,
   "user_envs_cfg": false
  },
  "toc": {
   "base_numbering": "0",
   "nav_menu": {},
   "number_sections": false,
   "sideBar": true,
   "skip_h1_title": true,
   "title_cell": "Table of Contents",
   "title_sidebar": "Contents",
   "toc_cell": true,
   "toc_position": {},
   "toc_section_display": true,
   "toc_window_display": true
  }
 },
 "nbformat": 4,
 "nbformat_minor": 5
}
