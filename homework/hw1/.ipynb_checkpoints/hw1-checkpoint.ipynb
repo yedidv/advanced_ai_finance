{
 "cells": [
  {
   "cell_type": "code",
   "execution_count": 2,
   "id": "composite-merchant",
   "metadata": {
    "ExecuteTime": {
     "end_time": "2021-02-01T20:45:41.333111Z",
     "start_time": "2021-02-01T20:45:40.667Z"
    }
   },
   "outputs": [],
   "source": [
    "## Load in the required packages\n",
    "\n",
    "library(quantmod) \n",
    "library(tidyverse) \n",
    "library(reshape2) \n",
    "library(glmnet) "
   ]
  },
  {
   "cell_type": "markdown",
   "id": "difficult-pavilion",
   "metadata": {
    "toc": true
   },
   "source": [
    "<h1>Table of Contents<span class=\"tocSkip\"></span></h1>\n",
    "<div class=\"toc\"><ul class=\"toc-item\"><li><span><a href=\"#Description\" data-toc-modified-id=\"Description-0\"><strong><em>Description</em></strong></a></span></li><li><span><a href=\"#Question-1:\" data-toc-modified-id=\"Question-1:-1\"><strong><em>Question 1:</em></strong></a></span></li></ul></div>"
   ]
  },
  {
   "cell_type": "markdown",
   "id": "proud-progressive",
   "metadata": {},
   "source": [
    "## ***Description*** \n",
    "\n",
    "We are looking to predict the S&P 500 returns using a min of 10 features. \n",
    "*******\n",
    "Start by downloading the data\n",
    "******* \n",
    "Define the outcome variable as the next period return of the S&P 500 \n",
    "******\n",
    "Find 10 feature variables that can be used as the predictors of the S&P 500 returns \n",
    "****** \n",
    "Build a Ridge Regression and a Lasso Regression using R's glmnet package \n",
    "Calibrate the models by selecting the lambda values that minimize the out of sample MSE \n",
    "***** \n",
    "Summarize the key insights found from the two different models \n"
   ]
  },
  {
   "cell_type": "markdown",
   "id": "hungarian-american",
   "metadata": {},
   "source": [
    "## ***Question 1:*** \n",
    "\n"
   ]
  },
  {
   "cell_type": "code",
   "execution_count": null,
   "id": "second-standard",
   "metadata": {},
   "outputs": [],
   "source": []
  }
 ],
 "metadata": {
  "hide_input": false,
  "kernelspec": {
   "display_name": "R",
   "language": "R",
   "name": "ir"
  },
  "language_info": {
   "codemirror_mode": "r",
   "file_extension": ".r",
   "mimetype": "text/x-r-source",
   "name": "R",
   "pygments_lexer": "r",
   "version": "3.6.1"
  },
  "latex_envs": {
   "LaTeX_envs_menu_present": true,
   "autoclose": false,
   "autocomplete": true,
   "bibliofile": "biblio.bib",
   "cite_by": "apalike",
   "current_citInitial": 1,
   "eqLabelWithNumbers": true,
   "eqNumInitial": 1,
   "hotkeys": {
    "equation": "Ctrl-E",
    "itemize": "Ctrl-I"
   },
   "labels_anchors": false,
   "latex_user_defs": false,
   "report_style_numbering": false,
   "user_envs_cfg": false
  },
  "toc": {
   "base_numbering": "0",
   "nav_menu": {},
   "number_sections": false,
   "sideBar": true,
   "skip_h1_title": true,
   "title_cell": "Table of Contents",
   "title_sidebar": "Contents",
   "toc_cell": true,
   "toc_position": {},
   "toc_section_display": true,
   "toc_window_display": true
  }
 },
 "nbformat": 4,
 "nbformat_minor": 5
}
